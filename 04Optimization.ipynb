{
 "cells": [
  {
   "cell_type": "code",
   "execution_count": 1,
   "id": "1a26edaf",
   "metadata": {},
   "outputs": [],
   "source": [
    "import pulp"
   ]
  },
  {
   "cell_type": "markdown",
   "id": "2317b35e",
   "metadata": {},
   "source": [
    "## 00 Methdology\n",
    "\n",
    "\n",
    "\\begin{equation}\n",
    "\\max \\sum_{o\\in O_{i}}\\sum_{d\\in D_{i}}  w_{d}^{i} \\cdot f_{o}^{i} \\cdot x_{o,d}^{i},  \\forall i \\in \\{A,B\\}\n",
    "\\label{eq:objective 1}\n",
    "\\end{equation}\n",
    "\n",
    "\\begin{equation}\n",
    "\\sum_{d \\in D} x_{o,d}^{i} \\leq  1, \\forall o \\in O,  \\forall i \\in \\{A,B\\}\n",
    "\\label{eq:constrain 1}\n",
    "\\end{equation}\n",
    "\\begin{equation}\n",
    "\\sum_{o \\in O} x_{o,d}^{i} \\leq 1, \\forall d \\in D,  \\forall i \\in \\{A,B\\}\n",
    "\\label{eq:constrain 2}\n",
    "\\end{equation}\n",
    "\n",
    "\\begin{equation}\n",
    "y_{o,d}^{i} =  \\frac{exp(v_{o,d}^{i})\\cdot x_{o,d}^{i}}{exp(v_{o,c})+\\sum_{i \\in \\{A,B\\}} \\sum_{o \\in O} exp(v_{o,d}^{i}) \\cdot x_{o,d}^{i}} \n",
    "\\end{equation}\n",
    "\n",
    "\n",
    "\\begin{equation}\n",
    "z_{o,d}^{i} = \\frac{exp(u_{o,d}^{i})\\cdot x_{o,d}^{i}}{exp(u_{c,d})+\\sum_{i \\in \\{A,B\\}} \\sum_{o \\in O} exp(u_{o,d}^{i}) \\cdot x_{o,d}^{i}} \n",
    "\\end{equation}"
   ]
  },
  {
   "cell_type": "code",
   "execution_count": null,
   "id": "f0736d61",
   "metadata": {},
   "outputs": [],
   "source": [
    "class Optimization(object):\n",
    "    \n",
    "    \n",
    "    def __init__(self,Orders,Drivers,Fare,commision_rate):\n",
    "        \n",
    "        \n",
    "        self.Orders=Orders\n",
    "        \n",
    "        self.Drivers=Drivers\n",
    "        \n",
    "        self.Fare=Fare\n",
    "        \n",
    "        self.commision_rate=commision_rate\n",
    "    \n",
    "        \n",
    "    def Problem(self):\n",
    "        \n",
    "        '''Define the problem'''\n",
    "\n",
    "        model = pulp.LpProblem(\"Ride_Matching_Problems\", pulp.LpMaximize)\n",
    "\n",
    "        '''Construct our decision variable lists'''\n",
    "\n",
    "        X = pulp.LpVariable.dicts(\"X\",((O, D) for O in self.Orders for D in self.Drivers),lowBound=0,upBound=1,cat='Integer')\n",
    "    \n",
    "\n",
    "        '''Objective Function'''\n",
    "\n",
    "        model += (pulp.lpSum([self.Fare[O] * self.commision_rate * X[(O, D)] for O in self.Orders for D in self.Drivers]))\n",
    "        \n",
    "        '''Each order can only be assigned one driver'''\n",
    "\n",
    "        for O in self.Orders:\n",
    "\n",
    "            model += pulp.lpSum([X[(O, D)] for D in self.Drivers]) <=1\n",
    "\n",
    "        '''Each driver can only serve one order'''\n",
    "\n",
    "        for D in self.Drivers:\n",
    "\n",
    "             model += pulp.lpSum([X[(O, D)] for O in self.Orders]) <=1\n",
    "                \n",
    "        '''solve'''\n",
    "        \n",
    "        model.solve()\n",
    "\n",
    "        result={}\n",
    "\n",
    "        for var in X:\n",
    "\n",
    "            var_value = X[var].varValue\n",
    "\n",
    "            if var_value !=0:\n",
    "\n",
    "                result[var[0]]=var[1]\n",
    "\n",
    "        return result"
   ]
  },
  {
   "cell_type": "markdown",
   "id": "3507b100",
   "metadata": {},
   "source": [
    "## 02 Numerical Example"
   ]
  },
  {
   "cell_type": "code",
   "execution_count": null,
   "id": "992a030d",
   "metadata": {},
   "outputs": [],
   "source": [
    "Orders=['O1','O2','O3']\n",
    "\n",
    "Drivers=['D1','D2','D3']\n",
    "\n",
    "Fare={'O1':10,'O2':15,'O3':20}\n",
    "\n",
    "commission_rate=0.2\n",
    "\n",
    "\n",
    "OPT=Optimization(Orders,):\n",
    "    \n"
   ]
  }
 ],
 "metadata": {
  "kernelspec": {
   "display_name": "Python 3 (ipykernel)",
   "language": "python",
   "name": "python3"
  },
  "language_info": {
   "codemirror_mode": {
    "name": "ipython",
    "version": 3
   },
   "file_extension": ".py",
   "mimetype": "text/x-python",
   "name": "python",
   "nbconvert_exporter": "python",
   "pygments_lexer": "ipython3",
   "version": "3.9.7"
  }
 },
 "nbformat": 4,
 "nbformat_minor": 5
}
